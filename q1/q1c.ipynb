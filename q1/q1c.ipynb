{
 "cells": [
  {
   "cell_type": "markdown",
   "metadata": {},
   "source": [
    "<h1> Setup 1c </h1>"
   ]
  },
  {
   "cell_type": "code",
   "execution_count": 1,
   "metadata": {},
   "outputs": [],
   "source": [
    "#make imports\n",
    "\n",
    "import os\n",
    "import sys\n",
    "import torch\n",
    "import numpy as np\n",
    "import pandas as pd"
   ]
  },
  {
   "cell_type": "code",
   "execution_count": 2,
   "metadata": {},
   "outputs": [],
   "source": [
    "#load the sentence transformer model and cosine sim loss function\n",
    "\n",
    "from transformers import AutoTokenizer, AutoModel\n",
    "from sentence_transformers import SentenceTransformer, InputExample, losses, SentencesDataset\n",
    "from torch.utils.data import DataLoader, Dataset"
   ]
  },
  {
   "cell_type": "code",
   "execution_count": 3,
   "metadata": {},
   "outputs": [],
   "source": [
    "#load the csv files for train and val\n",
    "\n",
    "train_df = pd.read_csv('../data/train.csv', sep='\\t', on_bad_lines='skip')\n",
    "dev_df = pd.read_csv('../data/dev.csv', sep='\\t', on_bad_lines='skip')\n",
    "\n",
    "train_df = train_df.dropna()\n",
    "dev_df = dev_df.dropna()\n",
    "\n",
    "train_sentence1 = train_df['sentence1'].tolist()\n",
    "train_sentence2 = train_df['sentence2'].tolist()\n",
    "train_scores = train_df['score'].tolist()\n",
    "\n",
    "val_sentence1 = dev_df['sentence1'].tolist()\n",
    "val_sentence2 = dev_df['sentence2'].tolist()\n",
    "val_scores = dev_df['score'].tolist()\n",
    "\n",
    "#scale the train scores b/w 0 and 1\n",
    "scaled_train_scores = [float(train_score/5.0) for train_score in train_scores]\n",
    "scaled_val_scores = [float(val_score/5.0) for val_score in val_scores]"
   ]
  },
  {
   "cell_type": "code",
   "execution_count": 4,
   "metadata": {},
   "outputs": [],
   "source": [
    "#set device as gpu\n",
    "device = \"mps\"\n",
    "\n",
    "#load model\n",
    "model = SentenceTransformer('all-MiniLM-L6-v2', device=device)"
   ]
  },
  {
   "cell_type": "code",
   "execution_count": 5,
   "metadata": {},
   "outputs": [],
   "source": [
    "train_examples = [\n",
    "    InputExample(texts=(sentence1, sentence2), label=score) for sentence1, sentence2, score in zip(train_sentence1, train_sentence2, scaled_train_scores)\n",
    "]\n",
    "\n",
    "val_examples = [\n",
    "    InputExample(texts=(sentence1, sentence2), label=score) for sentence1, sentence2, score in zip(val_sentence1, val_sentence2, scaled_val_scores)\n",
    "]"
   ]
  },
  {
   "cell_type": "code",
   "execution_count": 6,
   "metadata": {},
   "outputs": [],
   "source": [
    "train_batch_size = 1\n",
    "train_dataloader = DataLoader(train_examples, shuffle=False, batch_size=train_batch_size)\n",
    "train_loss = losses.CosineSimilarityLoss(model=model)"
   ]
  },
  {
   "cell_type": "code",
   "execution_count": 7,
   "metadata": {},
   "outputs": [
    {
     "data": {
      "application/vnd.jupyter.widget-view+json": {
       "model_id": "b78b27a13b284d309873f4bec95c31af",
       "version_major": 2,
       "version_minor": 0
      },
      "text/plain": [
       "Epoch:   0%|          | 0/1 [00:00<?, ?it/s]"
      ]
     },
     "metadata": {},
     "output_type": "display_data"
    },
    {
     "data": {
      "application/vnd.jupyter.widget-view+json": {
       "model_id": "7ab93ffa5c0242118464dce7f6bbda29",
       "version_major": 2,
       "version_minor": 0
      },
      "text/plain": [
       "Iteration:   0%|          | 0/5708 [00:00<?, ?it/s]"
      ]
     },
     "metadata": {},
     "output_type": "display_data"
    }
   ],
   "source": [
    "#run 1st iteration\n",
    "\n",
    "model.fit(\n",
    "    [(train_dataloader, train_loss)],\n",
    "    epochs=1,\n",
    ")"
   ]
  },
  {
   "cell_type": "code",
   "execution_count": 8,
   "metadata": {},
   "outputs": [
    {
     "name": "stdout",
     "output_type": "stream",
     "text": [
      "tensor(2781.8494, device='mps:0')\n"
     ]
    }
   ],
   "source": [
    "#import cosine similarity function\n",
    "from torch.nn import CosineSimilarity\n",
    "cos = CosineSimilarity(dim=0, eps=1e-4)\n",
    "\n",
    "#init train loss function\n",
    "train_losses = []\n",
    "\n",
    "train_loss = 0\n",
    "for sentence1,sentence2,gold_score in zip(train_sentence1, train_sentence2, train_scores):\n",
    "    embedding1 = torch.tensor(model.encode(sentence1)).to(device)\n",
    "    embedding2 = torch.tensor(model.encode(sentence2)).to(device)\n",
    "\n",
    "    #calculate cosine similarity and loss after scaling\n",
    "    tmp_loss = cos(embedding1, embedding2)*5\n",
    "    train_loss += (gold_score-tmp_loss)*(gold_score-tmp_loss)\n",
    "\n",
    "train_losses.append(train_loss)\n",
    "print(train_loss)"
   ]
  },
  {
   "cell_type": "code",
   "execution_count": 9,
   "metadata": {},
   "outputs": [
    {
     "name": "stdout",
     "output_type": "stream",
     "text": [
      "tensor(839.8903, device='mps:0')\n"
     ]
    }
   ],
   "source": [
    "val_losses = []\n",
    "\n",
    "val_loss = 0\n",
    "for sentence1,sentence2,gold_score in zip(val_sentence1, val_sentence2, val_scores):\n",
    "    embedding1 = torch.tensor(model.encode(sentence1)).to(device)\n",
    "    embedding2 = torch.tensor(model.encode(sentence2)).to(device)\n",
    "\n",
    "    #calculate cosine similarity and loss after scaling\n",
    "    tmp_loss = cos(embedding1, embedding2)*5\n",
    "    val_loss += (gold_score-tmp_loss)*(gold_score-tmp_loss)\n",
    "\n",
    "val_losses.append(val_loss)\n",
    "print(val_loss)"
   ]
  },
  {
   "cell_type": "code",
   "execution_count": 11,
   "metadata": {},
   "outputs": [
    {
     "data": {
      "application/vnd.jupyter.widget-view+json": {
       "model_id": "7d23ab00467345e58243421cb650fcf7",
       "version_major": 2,
       "version_minor": 0
      },
      "text/plain": [
       "Epoch:   0%|          | 0/1 [00:00<?, ?it/s]"
      ]
     },
     "metadata": {},
     "output_type": "display_data"
    },
    {
     "data": {
      "application/vnd.jupyter.widget-view+json": {
       "model_id": "f11d9bb0e79547efb8c2f21500dfff33",
       "version_major": 2,
       "version_minor": 0
      },
      "text/plain": [
       "Iteration:   0%|          | 0/5708 [00:00<?, ?it/s]"
      ]
     },
     "metadata": {},
     "output_type": "display_data"
    }
   ],
   "source": [
    "#run 2nd iteration\n",
    "\n",
    "train_batch_size = 1\n",
    "train_dataloader = DataLoader(train_examples, shuffle=False, batch_size=train_batch_size)\n",
    "train_loss = losses.CosineSimilarityLoss(model=model)\n",
    "\n",
    "model.fit(\n",
    "    [(train_dataloader, train_loss)],\n",
    "    epochs=1,\n",
    ")"
   ]
  },
  {
   "cell_type": "code",
   "execution_count": 12,
   "metadata": {},
   "outputs": [
    {
     "name": "stdout",
     "output_type": "stream",
     "text": [
      "tensor(1978.0156, device='mps:0')\n"
     ]
    }
   ],
   "source": [
    "#calculate train loss\n",
    "\n",
    "train_loss = 0\n",
    "for sentence1,sentence2,gold_score in zip(train_sentence1, train_sentence2, train_scores):\n",
    "    embedding1 = torch.tensor(model.encode(sentence1)).to(device)\n",
    "    embedding2 = torch.tensor(model.encode(sentence2)).to(device)\n",
    "\n",
    "    #calculate cosine similarity and loss after scaling\n",
    "    tmp_loss = cos(embedding1, embedding2)*5\n",
    "    train_loss += (gold_score-tmp_loss)*(gold_score-tmp_loss)\n",
    "\n",
    "train_losses.append(train_loss)\n",
    "print(train_loss)"
   ]
  },
  {
   "cell_type": "code",
   "execution_count": 13,
   "metadata": {},
   "outputs": [
    {
     "name": "stdout",
     "output_type": "stream",
     "text": [
      "tensor(769.3137, device='mps:0')\n"
     ]
    }
   ],
   "source": [
    "#calculate val loss\n",
    "\n",
    "val_loss = 0\n",
    "for sentence1,sentence2,gold_score in zip(val_sentence1, val_sentence2, val_scores):\n",
    "    embedding1 = torch.tensor(model.encode(sentence1)).to(device)\n",
    "    embedding2 = torch.tensor(model.encode(sentence2)).to(device)\n",
    "\n",
    "    #calculate cosine similarity and loss after scaling\n",
    "    tmp_loss = cos(embedding1, embedding2)*5\n",
    "    val_loss += (gold_score-tmp_loss)*(gold_score-tmp_loss)\n",
    "\n",
    "val_losses.append(val_loss)\n",
    "print(val_loss)"
   ]
  },
  {
   "cell_type": "code",
   "execution_count": 14,
   "metadata": {},
   "outputs": [
    {
     "name": "stdout",
     "output_type": "stream",
     "text": [
      "[tensor(2781.8494, device='mps:0'), tensor(1978.0156, device='mps:0')]\n",
      "[tensor(839.8903, device='mps:0'), tensor(769.3137, device='mps:0')]\n"
     ]
    }
   ],
   "source": [
    "print(train_losses)\n",
    "print(val_losses)"
   ]
  },
  {
   "cell_type": "code",
   "execution_count": 15,
   "metadata": {},
   "outputs": [],
   "source": [
    "#store dev similarity scores\n",
    "\n",
    "dev_similarity_scores = []\n",
    "\n",
    "for sentence1,sentence2 in zip(val_sentence1, val_sentence2):\n",
    "    embedding1 = torch.tensor(model.encode(sentence1)).to(device)\n",
    "    embedding2 = torch.tensor(model.encode(sentence2)).to(device)\n",
    "\n",
    "    #calculate cosine similarity\n",
    "    similarity_score = cos(embedding1, embedding2)*5\n",
    "    dev_similarity_scores.append(similarity_score)"
   ]
  },
  {
   "cell_type": "code",
   "execution_count": 17,
   "metadata": {},
   "outputs": [],
   "source": [
    "dev_similarity_scores = [float(score) for score in dev_similarity_scores]"
   ]
  },
  {
   "cell_type": "code",
   "execution_count": 19,
   "metadata": {},
   "outputs": [
    {
     "name": "stdout",
     "output_type": "stream",
     "text": [
      "PearsonRResult(statistic=0.8864435579567016, pvalue=0.0)\n"
     ]
    }
   ],
   "source": [
    "#calculate pearson correlation\n",
    "from scipy.stats import pearsonr\n",
    "\n",
    "pearson_corr = pearsonr(val_scores, dev_similarity_scores)\n",
    "print(pearson_corr)"
   ]
  },
  {
   "cell_type": "code",
   "execution_count": 20,
   "metadata": {},
   "outputs": [],
   "source": [
    "#save the model\n",
    "\n",
    "model.save('setup1c')"
   ]
  },
  {
   "cell_type": "code",
   "execution_count": 23,
   "metadata": {},
   "outputs": [
    {
     "data": {
      "image/png": "[encoded data removed]",
      "text/plain": [
       "<Figure size 640x480 with 1 Axes>"
      ]
     },
     "metadata": {},
     "output_type": "display_data"
    }
   ],
   "source": [
    "#plot train loss against number of epochs\n",
    "import matplotlib.pyplot as plt\n",
    "\n",
    "train_losses = [float(loss) for loss in train_losses]\n",
    "plt.plot(train_losses)\n",
    "plt.xlabel('Epochs')\n",
    "plt.ylabel('Train Loss')\n",
    "plt.title('Train Loss vs Epochs')\n",
    "plt.show()"
   ]
  },
  {
   "cell_type": "code",
   "execution_count": 24,
   "metadata": {},
   "outputs": [
    {
     "data": {
      "image/png": "[encoded data removed]",
      "text/plain": [
       "<Figure size 640x480 with 1 Axes>"
      ]
     },
     "metadata": {},
     "output_type": "display_data"
    }
   ],
   "source": [
    "#plot val loss against number of epochs\n",
    "\n",
    "val_losses = [float(loss) for loss in val_losses]\n",
    "plt.plot(val_losses)\n",
    "plt.xlabel('Epochs')\n",
    "plt.ylabel('Val Loss')\n",
    "plt.title('Val Loss vs Epochs')\n",
    "plt.show()"
   ]
  }
 ],
 "metadata": {
  "kernelspec": {
   "display_name": "env_pytorch",
   "language": "python",
   "name": "python3"
  },
  "language_info": {
   "codemirror_mode": {
    "name": "ipython",
    "version": 3
   },
   "file_extension": ".py",
   "mimetype": "text/x-python",
   "name": "python",
   "nbconvert_exporter": "python",
   "pygments_lexer": "ipython3",
   "version": "3.9.18"
  }
 },
 "nbformat": 4,
 "nbformat_minor": 2
}
